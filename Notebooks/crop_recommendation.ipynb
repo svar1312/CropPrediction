{
 "cells": [
  {
   "cell_type": "markdown",
   "metadata": {},
   "source": [
    "<h3>Naive Bayes on the crop dataset</h3>"
   ]
  },
  {
   "cell_type": "code",
   "execution_count": 1,
   "metadata": {},
   "outputs": [],
   "source": [
    "from csv import reader\n",
    "from random import seed\n",
    "from random import randrange\n",
    "from math import sqrt\n",
    "from math import exp\n",
    "from math import pi\n",
    "import pandas as pd"
   ]
  },
  {
   "cell_type": "markdown",
   "metadata": {},
   "source": [
    "<b>Load a CSV file</b>"
   ]
  },
  {
   "cell_type": "code",
   "execution_count": 2,
   "metadata": {},
   "outputs": [],
   "source": [
    "def load_csv(filename):\n",
    "\tdataset=[]\n",
    "\twith open(filename,'r') as file:\n",
    "\t\tcsv_reader=reader(file)\n",
    "\t\tfor row in csv_reader:\n",
    "\t\t\tif not row:\n",
    "\t\t\t\tcontinue\n",
    "\t\t\tdataset.append(row)\n",
    "\treturn dataset"
   ]
  },
  {
   "cell_type": "markdown",
   "metadata": {},
   "source": [
    "<b>Convert string column to float</b>"
   ]
  },
  {
   "cell_type": "code",
   "execution_count": 3,
   "metadata": {},
   "outputs": [],
   "source": [
    "def str_column_to_float(dataset,column):\n",
    "\tfor row in dataset:\n",
    "\t\trow[column]=float(row[column].strip())"
   ]
  },
  {
   "cell_type": "markdown",
   "metadata": {},
   "source": [
    "<b>Convert string column to integer</b>"
   ]
  },
  {
   "cell_type": "code",
   "execution_count": 4,
   "metadata": {},
   "outputs": [],
   "source": [
    "def str_column_to_int(dataset,column):\n",
    "\tclass_values=[row[column] for row in dataset]\n",
    "\tunique=set(class_values)\n",
    "\tlookup=dict()\n",
    "\tfor i,value in enumerate(unique):\n",
    "\t\tlookup[value]=i\n",
    "\tfor row in dataset:\n",
    "\t\trow[column]=lookup[row[column]]\n",
    "\treturn lookup"
   ]
  },
  {
   "cell_type": "markdown",
   "metadata": {},
   "source": [
    "<b>Split a dataset into k folds</b>"
   ]
  },
  {
   "cell_type": "code",
   "execution_count": 5,
   "metadata": {},
   "outputs": [],
   "source": [
    "def cross_validation_split(dataset,n_folds):\n",
    "\tdataset_split=list()\n",
    "\tdataset_copy=list(dataset)\n",
    "\tfold_size=int(len(dataset)/n_folds)\n",
    "\tfor _ in range(n_folds):\n",
    "\t\tfold=list()\n",
    "\t\twhile len(fold)<fold_size:\n",
    "\t\t\tindex=randrange(len(dataset_copy))\n",
    "\t\t\tfold.append(dataset_copy.pop(index))\n",
    "\t\tdataset_split.append(fold)\n",
    "\treturn dataset_split"
   ]
  },
  {
   "cell_type": "markdown",
   "metadata": {},
   "source": [
    "<b>Calculate accuracy percentage</b>"
   ]
  },
  {
   "cell_type": "code",
   "execution_count": 6,
   "metadata": {},
   "outputs": [],
   "source": [
    "def accuracy_metric(actual,predicted):\n",
    "\tcorrect=0\n",
    "\tfor i in range(len(actual)):\n",
    "\t\tif actual[i]==predicted[i]:\n",
    "\t\t\tcorrect+=1\n",
    "\treturn correct/float(len(actual)) * 100.0"
   ]
  },
  {
   "cell_type": "markdown",
   "metadata": {},
   "source": [
    "<b>Evaluate an algorithm using a cross validation split</b>"
   ]
  },
  {
   "cell_type": "code",
   "execution_count": 7,
   "metadata": {},
   "outputs": [],
   "source": [
    "def evaluate_algorithm(dataset,algorithm,n_folds,*args):\n",
    "\tfolds=cross_validation_split(dataset,n_folds)\n",
    "\tscores=list()\n",
    "\tfor fold in folds:\n",
    "\t\ttrain_set=list(folds)\n",
    "\t\ttrain_set.remove(fold)\n",
    "\t\ttrain_set=sum(train_set,[])\n",
    "\t\ttest_set=list()\n",
    "\t\tfor row in fold:\n",
    "\t\t\trow_copy=list(row)\n",
    "\t\t\ttest_set.append(row_copy)\n",
    "\t\t\trow_copy[-1]=None\n",
    "\t\tpredicted=algorithm(train_set, test_set, *args)\n",
    "\t\tactual=[row[-1] for row in fold]\n",
    "\t\taccuracy=accuracy_metric(actual, predicted)\n",
    "\t\tscores.append(accuracy)\n",
    "\treturn scores"
   ]
  },
  {
   "cell_type": "markdown",
   "metadata": {},
   "source": [
    "<b>Split the dataset by class values, returns a dictionary</b>"
   ]
  },
  {
   "cell_type": "code",
   "execution_count": 8,
   "metadata": {},
   "outputs": [],
   "source": [
    "def separate_by_class(dataset):\n",
    "\tseparated=dict()\n",
    "\tfor i in range(len(dataset)):\n",
    "\t\tvector=dataset[i]\n",
    "\t\tclass_value=vector[-1]\n",
    "\t\tif class_value not in separated:\n",
    "\t\t\tseparated[class_value]=list()\n",
    "\t\tseparated[class_value].append(vector)\n",
    "\treturn separated"
   ]
  },
  {
   "cell_type": "markdown",
   "metadata": {},
   "source": [
    "<b>Calculate the mean of a list of numbers</b>"
   ]
  },
  {
   "cell_type": "code",
   "execution_count": 9,
   "metadata": {},
   "outputs": [],
   "source": [
    "def mean(numbers):\n",
    "\treturn sum(numbers)/float(len(numbers))"
   ]
  },
  {
   "cell_type": "markdown",
   "metadata": {},
   "source": [
    "<b>Calculate the standard deviation of a list of numbers</b>"
   ]
  },
  {
   "cell_type": "code",
   "execution_count": 10,
   "metadata": {},
   "outputs": [],
   "source": [
    "def stdev(numbers):\n",
    "\tavg=mean(numbers)\n",
    "\tvariance=sum([(x-avg)**2 for x in numbers])/float(len(numbers)-1)\n",
    "\treturn sqrt(variance)"
   ]
  },
  {
   "cell_type": "markdown",
   "metadata": {},
   "source": [
    "<b>Calculate the mean, stdev and count for each column in a dataset</b>"
   ]
  },
  {
   "cell_type": "code",
   "execution_count": 11,
   "metadata": {},
   "outputs": [],
   "source": [
    "def summarize_dataset(dataset):\n",
    "\tsummaries=[(mean(column),stdev(column),len(column)) for column in zip(*dataset)]\n",
    "\tdel(summaries[-1])\n",
    "\treturn summaries"
   ]
  },
  {
   "cell_type": "markdown",
   "metadata": {},
   "source": [
    "<b>Split dataset by class then calculate statistics for each row</b>"
   ]
  },
  {
   "cell_type": "code",
   "execution_count": 12,
   "metadata": {},
   "outputs": [],
   "source": [
    "def summarize_by_class(dataset):\n",
    "\tseparated = separate_by_class(dataset)\n",
    "\tsummaries = dict()\n",
    "\tfor class_value, rows in separated.items():\n",
    "\t\tsummaries[class_value] = summarize_dataset(rows)\n",
    "\treturn summaries"
   ]
  },
  {
   "cell_type": "markdown",
   "metadata": {},
   "source": [
    "<b>Calculate the Gaussian probability distribution function for x</b>"
   ]
  },
  {
   "cell_type": "code",
   "execution_count": 13,
   "metadata": {},
   "outputs": [],
   "source": [
    "def calculate_probability(x,mean,stdev):\n",
    "\texponent=exp(-((x-mean)**2/(2 * stdev**2 )))\n",
    "\treturn (1/(sqrt(2*pi)*stdev))*exponent"
   ]
  },
  {
   "cell_type": "markdown",
   "metadata": {},
   "source": [
    "<b>Calculate the probabilities of predicting each class for a given row</b>"
   ]
  },
  {
   "cell_type": "code",
   "execution_count": 14,
   "metadata": {},
   "outputs": [],
   "source": [
    "def calculate_class_probabilities(summaries,row):\n",
    "\ttotal_rows=sum([summaries[label][0][2] for label in summaries])\n",
    "\tprobabilities=dict()\n",
    "\tfor class_value,class_summaries in summaries.items():\n",
    "\t\tprobabilities[class_value]=summaries[class_value][0][2]/float(total_rows)\n",
    "\t\tfor i in range(len(class_summaries)):\n",
    "\t\t\tmean,stdev,_=class_summaries[i]\n",
    "\t\t\tprobabilities[class_value]*=calculate_probability(row[i],mean,stdev)\n",
    "\treturn probabilities"
   ]
  },
  {
   "cell_type": "markdown",
   "metadata": {},
   "source": [
    "<b>Predict the class for a given row</b>"
   ]
  },
  {
   "cell_type": "code",
   "execution_count": 15,
   "metadata": {},
   "outputs": [],
   "source": [
    "def predict(summaries,row):\n",
    "\tprobabilities=calculate_class_probabilities(summaries,row)\n",
    "\tbest_label,best_prob=None,-1\n",
    "\tfor class_value,probability in probabilities.items():\n",
    "\t\tif best_label is None or probability>best_prob:\n",
    "\t\t\tbest_prob=probability\n",
    "\t\t\tbest_label=class_value\n",
    "\treturn best_label"
   ]
  },
  {
   "cell_type": "markdown",
   "metadata": {},
   "source": [
    "<b>Naive Bayes Algorithm</b>"
   ]
  },
  {
   "cell_type": "code",
   "execution_count": 16,
   "metadata": {},
   "outputs": [],
   "source": [
    "def naive_bayes(train,test):\n",
    "\tsummarize=summarize_by_class(train)\n",
    "\tpredictions=list()\n",
    "\tfor row in test:\n",
    "\t\toutput=predict(summarize,row)\n",
    "\t\tpredictions.append(output)\n",
    "\treturn(predictions)"
   ]
  },
  {
   "cell_type": "markdown",
   "metadata": {},
   "source": [
    "<b>Test Naive Bayes on Crop dataset</b>"
   ]
  },
  {
   "cell_type": "code",
   "execution_count": 17,
   "metadata": {},
   "outputs": [
    {
     "name": "stdout",
     "output_type": "stream",
     "text": [
      "Scores:  [98.86363636363636, 99.54545454545455, 99.0909090909091, 99.54545454545455, 99.77272727272727]\n",
      "Mean Accuracy: 99.364%\n"
     ]
    }
   ],
   "source": [
    "seed(1)\n",
    "filename='../Data_processed/CropRecommendation.csv'\n",
    "dataset=load_csv(filename)\n",
    "for i in range(len(dataset[0])-1):\n",
    "\tstr_column_to_float(dataset[1:],i)\n",
    "str_column_to_int(dataset[1:],len(dataset[0])-1)\n",
    "n_folds=5\n",
    "scores=evaluate_algorithm(dataset[1:],naive_bayes,n_folds)\n",
    "print('Scores: ',scores)\n",
    "print('Mean Accuracy: %.3f%%' % (sum(scores)/float(len(scores))))"
   ]
  }
 ],
 "metadata": {
  "kernelspec": {
   "display_name": "Python 3.9.12 ('base')",
   "language": "python",
   "name": "python3"
  },
  "language_info": {
   "codemirror_mode": {
    "name": "ipython",
    "version": 3
   },
   "file_extension": ".py",
   "mimetype": "text/x-python",
   "name": "python",
   "nbconvert_exporter": "python",
   "pygments_lexer": "ipython3",
   "version": "3.9.12"
  },
  "orig_nbformat": 4,
  "vscode": {
   "interpreter": {
    "hash": "65bc13c3d2ef84ce8c6ce4ab0827062af7c619685f186903454191eb7c500f5f"
   }
  }
 },
 "nbformat": 4,
 "nbformat_minor": 2
}
